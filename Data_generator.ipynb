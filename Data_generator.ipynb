{
 "cells": [
  {
   "cell_type": "code",
   "execution_count": 24,
   "metadata": {},
   "outputs": [
    {
     "name": "stdout",
     "output_type": "stream",
     "text": [
      "/Users/cecilie/Desktop/Master Thesis\n"
     ]
    }
   ],
   "source": [
    "import numpy as np\n",
    "import os\n",
    "from os import walk\n",
    "\n",
    "\n",
    "cwd = os.getcwd()\n",
    "print(cwd)\n"
   ]
  },
  {
   "cell_type": "code",
   "execution_count": 25,
   "metadata": {},
   "outputs": [],
   "source": [
    "class DataSet(object):\n",
    "\n",
    "  def __init__(self, signal, labels):\n",
    "    \"\"\"\n",
    "    Construct a DataSet.\n",
    "    By using the “self” keyword we can access the attributes and methods of the class in python.\n",
    "    It binds the attributes with the given arguments. \n",
    "    \n",
    "    Input\n",
    "    Signal: -> dtp.float, (N,)\n",
    "    Label: -> dtp.float, (N,)\n",
    "    \n",
    "    Return\n",
    "    Dataset: -> Class\n",
    "    \"\"\"\n",
    "\n",
    "    self._signal = signal\n",
    "    self._labels = labels\n",
    "    self._epochs_completed = 0\n",
    "    self._index_in_epoch = 0\n",
    "\n",
    "  @property\n",
    "  def signal(self):\n",
    "    return self._signal\n",
    "\n",
    "  @property\n",
    "  def labels(self):\n",
    "    return self._labels\n",
    "\n",
    "  @property\n",
    "  def num_examples(self):\n",
    "    return self._num_examples\n",
    "\n",
    "  @property\n",
    "  def epochs_completed(self):\n",
    "    return self._epochs_completed\n",
    "\n",
    "  def next_batch(self, batch_size):\n",
    "    \"\"\"Return the next `batch_size` examples from this data set.\"\"\"\n",
    "    start = self._index_in_epoch\n",
    "    self._index_in_epoch += batch_size\n",
    "    if self._index_in_epoch > self._num_examples:\n",
    "      # Finished epoch\n",
    "      self._epochs_completed += 1\n",
    "      # Shuffle the data\n",
    "      perm = numpy.arange(self._num_examples)\n",
    "      numpy.random.shuffle(perm)\n",
    "      self._signal = self._signal[perm]\n",
    "      self._labels = self._labels[perm]\n",
    "      # Start next epoch\n",
    "      start = 0\n",
    "      self._index_in_epoch = batch_size\n",
    "      assert batch_size <= self._num_examples\n",
    "    end = self._index_in_epoch\n",
    "    return self._signal[start:end], self._labels[start:end]\n"
   ]
  },
  {
   "cell_type": "code",
   "execution_count": 89,
   "metadata": {},
   "outputs": [],
   "source": [
    "def is_whole(n):\n",
    "    return n % 1 == 0\n",
    "\n",
    "def pars_data(filepath, width=512):\n",
    "    \"\"\"\n",
    "    This function parse the data into the wanted length\n",
    "    \n",
    "    Input:\n",
    "    Filepath: -> string, tells were the files are.\n",
    "    Width: -> dtp.float, tells how the signal should be broken up\n",
    "    \n",
    "    Return: \n",
    "    Data: -> dtp.float, (num_signals, rows, cols, 1)\n",
    "    Labels: -> dtp.float, (num_label, rows, cols, 1)\n",
    "\n",
    "    \"\"\"\n",
    "    \n",
    "    filenames_signal = []\n",
    "    for filename in os.listdir(str(filepath + '/')):\n",
    "        if 'label' in filename:\n",
    "            continue\n",
    "        elif '.npy' in filename:\n",
    "            filenames_signal.append(filename)\n",
    "        else:  \n",
    "            continue\n",
    "                \n",
    "    data = np.zeros((512,))\n",
    "    data = np.append([data], [data], axis=0)\n",
    "\n",
    "    labels = np.zeros((512,))\n",
    "    labels = np.append([labels], [labels], axis=0)\n",
    "\n",
    "    for filename in filenames_signal:\n",
    "        print(filename)\n",
    "        signal = np.load(str(filepath + '/' + filename))\n",
    "        label = np.load(str(filepath + '/' + filename[:-4] + '_label.npy'))\n",
    "        assert len(signal)==len(label)\n",
    "        \n",
    "        if is_whole(len(signal)/width):\n",
    "            number = int(len(signal)/width)\n",
    "            for i in range((number*2+1)):\n",
    "                batch_signal = signal[int(width/2)*i:int(width/2)*(i+2),]\n",
    "                batch_label = label[int(width/2)*i:int(width/2)*(i+2),]\n",
    "           \n",
    "                data = np.append(data, [batch_signal], axis=0)\n",
    "                labels = np.append(labels, [batch_label], axis=0)\n",
    "\n",
    "                print(int(width/2)*i,int(width/2)*(i+2))\n",
    "\n",
    "        else:\n",
    "            number = int(len(signal)/width)\n",
    "            for i in range((number*2)):\n",
    "                batch_signal = signal[int(width/2)*i:int(width/2)*(i+2),]\n",
    "                batch_label = label[int(width/2)*i:int(width/2)*(i+2),]\n",
    "                   \n",
    "            \n",
    "                data = np.append(data, [batch_signal], axis=0)\n",
    "                labels = np.append(labels, [batch_label], axis=0)\n",
    "    return data, labels\n",
    "    \n",
    "    \n",
    "    \n",
    "    "
   ]
  },
  {
   "cell_type": "code",
   "execution_count": 90,
   "metadata": {},
   "outputs": [
    {
     "name": "stdout",
     "output_type": "stream",
     "text": [
      "(3, 512)\n"
     ]
    }
   ],
   "source": [
    "batch = np.zeros((512,))\n",
    "data = np.zeros((512,))\n",
    "data = np.append([data], [data], axis=0)\n",
    "\n",
    "\n",
    "data = np.append( data, [batch] , axis=0)\n",
    "\n",
    "\n",
    "print(data.shape)\n"
   ]
  },
  {
   "cell_type": "code",
   "execution_count": 95,
   "metadata": {},
   "outputs": [
    {
     "name": "stdout",
     "output_type": "stream",
     "text": [
      "100.npy\n",
      "101.npy\n",
      "(46, 512) (46, 512)\n"
     ]
    }
   ],
   "source": [
    "def read_data_sets():\n",
    "    class DataSets(object):\n",
    "        pass\n",
    "    data_sets = DataSets()\n",
    "  \n",
    "    width = 512\n",
    "    \n",
    "    filepath_train = './Test_data'\n",
    "    filepath_valid = './Data/Val'\n",
    "    filepath_test = './Data/Test'\n",
    "\n",
    "    if os.path.exists(filepath_train) == True :\n",
    "        train_signal, train_labels = pars_data(filepath_train, width=width)\n",
    "        data_sets.train = DataSet(train_signal, train_labels)\n",
    "    \n",
    "    if os.path.exists(filepath_valid) == True :\n",
    "        validation_signal, validation_labels = pars_data(filepath_valid, width=width)        \n",
    "        data_sets.validation = DataSet(validation_signal, validation_labels)\n",
    "    \n",
    "    if os.path.exists(filepath_test) == True :\n",
    "        test_signal, test_labels = pars_data(filepath_test, width=width)        \n",
    "        data_sets.test = DataSet(test_signal, test_labels)\n",
    "\n",
    "    return data_sets\n",
    "\n",
    "Dataset = read_data_sets()\n"
   ]
  },
  {
   "cell_type": "code",
   "execution_count": 92,
   "metadata": {},
   "outputs": [],
   "source": [
    " y_train = Dataset.train.labels"
   ]
  }
 ],
 "metadata": {
  "kernelspec": {
   "display_name": "Python 3",
   "language": "python",
   "name": "python3"
  },
  "language_info": {
   "codemirror_mode": {
    "name": "ipython",
    "version": 3
   },
   "file_extension": ".py",
   "mimetype": "text/x-python",
   "name": "python",
   "nbconvert_exporter": "python",
   "pygments_lexer": "ipython3",
   "version": "3.8.2"
  }
 },
 "nbformat": 4,
 "nbformat_minor": 4
}
